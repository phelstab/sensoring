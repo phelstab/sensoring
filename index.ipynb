{
 "cells": [
  {
   "cell_type": "markdown",
   "metadata": {
    "slideshow": {
     "slide_type": "slide"
    }
   },
   "source": [
    "# Real-Time Multi-Modal Audio, Video and Physiological Data Collection\n",
    "*by Paul Helstab & Danila Mamontov*\n",
    "\n",
    "\n",
    "**Repository**:</br> https://github.com/phelstab/sensoring\n",
    "\n",
    "<img src=\"_static/images/repo.png\" width=\"100\" height=\"100\">\n"
   ]
  },
  {
   "cell_type": "markdown",
   "metadata": {
    "slideshow": {
     "slide_type": "subslide"
    }
   },
   "source": [
    "**Documentation / Online Book**:</br> https://phelstab.github.io/sensoring\n",
    "\n",
    "<img src=\"_static/images/sensor.png\" width=\"100\" height=\"100\">"
   ]
  },
  {
   "cell_type": "markdown",
   "metadata": {
    "slideshow": {
     "slide_type": "subslide"
    }
   },
   "source": [
    "<div class=\"alert alert-info\"><b>INFO</b><br />\n",
    "This repository is a <b>third party software project</b> for <b>real-time data</b> acquisition and <b>visualization</b> of audio, video, and physiological signals with <b>Polar H10</b>, <b>Empatica E4</b>, and <b>Azure Kinect DK</b> sensors.\n",
    "</div>\n",
    "\n",
    " * **Empatica E4** (Real-time physiological signal sensoring)\n",
    " * **Polar H10** (Real-time heart rate signal sensoring)\n",
    " * **Azure Kinect Developer Kit** (3D spatial information sensor device to create computer vision and speech model applications)"
   ]
  },
  {
   "cell_type": "markdown",
   "metadata": {
    "slideshow": {
     "slide_type": "slide"
    }
   },
   "source": [
    "## Sensor Information\n",
    "\n",
    "| Device | Sensors | Data Stream | Frequency (set to) |Output|\n",
    "|-----------|-----------|-----------|-----------|---|\n",
    "| **Empatica E4** | Photoplethysmography sensor (PPG) | Blood Volume Pressure <b>(BVP)</b> |64Hz|.csv|\n",
    "|   |   | Heart Rate <b>(HR)</b> | event-based (derived from BVP)|.csv|\n",
    "|   |   | Interbeat Interval <b>(IBI)</b> | event-based (derived from BVP)|.csv|\n",
    "|   | Electrodermal activity sensor (EDA) | Galvanic skin response <b>(GSR)</b> |4Hz|.csv|\n",
    "|   | 3-axis accelerometer | XYZ-axes per timestep <b>(ACC)</b> |32Hz|.csv|\n",
    "|   | Optical thermometer (probably infrared) | Skin temperature <br>in celsius per timestep <b>(TEMP)</b> |4Hz|.csv|\n",
    "| **Polar H10** | Electrocardiography sensor (ECG) | ECG data <b>(ECG)</b><br>electric potential in microvolts (μV)  |130Hz|.csv|\n",
    "|   |  | Interbeat Interval <b>(IBI)</b> | event-based (derived from ECG) |.csv|\n",
    "|   |  | Heart Rate <b>(HR)</b> | event-based (derived from ECG) |.csv|\n",
    "|   | 3-axis accelerometer (XYZ) | XYZ-axes per timestep <b>(ACC)</b> |200Hz|.csv|\n",
    "| **Azure Kinect DK** |\tDepth camera: 1MP Time-of-flight | NFOV unbinned: 640x576 </br> NFOV 2x2 binned: 320x288</br> WFOV 2x2 binned: 512x512</br> WFOV unbinned: 1024x1024</br> Passive IR: 1024x1024 | 0, 5, 15, or 30 FPS |-|\n",
    "|   | RGB camera: 12MP CMOS sensor rolling shutter | 3840x2160 (UHD)</br>2560x1440 (QHD)</br>1920x1080 (FHD)</br>1280x720 (HD)| 0, 5, 15, or 30 FPS |.mkv|\n",
    "|   | IMU (Inertial Measurement Unit): 3D accelerometer and gyroscope |  XYZ-axes linear acceleration in (m/s²);</br>XYZ-axes rotational speed (rad/s)  | Sampling rate: 1.6 kHz</br>Reporting rate to host: 208 Hz |-|\n",
    "|   | Microphone: 7-microphone circular array | Channel Count: 7 channels</br>Sample Format: 16-bit integer (Int16)| Sample Rate: 16000 Hz (16 kHz) |.wav|\n",
    "\n",
    "{cite}`FemtoBol29`, {cite}`E4wristb96`, {cite}`H10UserM13`, {cite}`polarble80`\n"
   ]
  },
  {
   "cell_type": "markdown",
   "metadata": {
    "slideshow": {
     "slide_type": "slide"
    }
   },
   "source": [
    "##  Milestones\n",
    "\n",
    "- [x] Lightweight real time data acquisition of **Polar H10** Sensors\n",
    "- [x] Lightweight real time data acquisition of **Empatica E4** Sensors\n",
    "- [x] Flawless simultaneous recording of **audio and video** from the **Azure Kinect DK** \n",
    "- [x] Parallel caputuring of **sessions** for experiments\n",
    "- [x] **Real time visual feedback** of data aquisition\n",
    "- [x] **CI/CD Pipeline** for versioning and fast deployment of features and fixes\n",
    "- [x] **Free online book** for documentation and theorethical background about sensoring\n"
   ]
  },
  {
   "cell_type": "markdown",
   "metadata": {
    "slideshow": {
     "slide_type": "subslide"
    }
   },
   "source": [
    "**Open To Do's:**\n",
    "- [ ] **Audio input selection** e.g. for alternative microphone inputs (not only Azure Kinect DK microphone) \n",
    "- [ ] **Eye sensoring** with HTC vive pro"
   ]
  },
  {
   "cell_type": "markdown",
   "metadata": {
    "slideshow": {
     "slide_type": "subslide"
    }
   },
   "source": [
    "**Optional To Do's:**\n",
    "- [ ] **Triggering** data aquisition in the sensor software with the unreal engine endpoints\n",
    "- [ ] Real time **Body Tracking** with Azure Kinect DK\n",
    "    * Could be done better afterwards on the video footage"
   ]
  },
  {
   "cell_type": "markdown",
   "metadata": {},
   "source": [
    "<img src=\"_static/images/app.png\">"
   ]
  },
  {
   "cell_type": "markdown",
   "metadata": {},
   "source": [
    "<img src=\"_static/images/polar_gui.png\">"
   ]
  },
  {
   "cell_type": "markdown",
   "metadata": {},
   "source": [
    "<img src=\"_static/images/kinect_gui.png\">\n",
    "\n",
    "* Forked from the [pykinect-recorder](https://github.com/unerue/pykinect-recorder) project"
   ]
  },
  {
   "cell_type": "markdown",
   "metadata": {
    "slideshow": {
     "slide_type": "slide"
    }
   },
   "source": [
    "## References\n",
    "\n",
    "* {cite}`Elektris81`"
   ]
  }
 ],
 "metadata": {
  "celltoolbar": "Slideshow",
  "kernelspec": {
   "display_name": "Python 3 (ipykernel)",
   "language": "python",
   "name": "python3"
  },
  "language_info": {
   "codemirror_mode": {
    "name": "ipython",
    "version": 3
   },
   "file_extension": ".py",
   "mimetype": "text/x-python",
   "name": "python",
   "nbconvert_exporter": "python",
   "pygments_lexer": "ipython3",
   "version": "3.11.9"
  }
 },
 "nbformat": 4,
 "nbformat_minor": 4
}
