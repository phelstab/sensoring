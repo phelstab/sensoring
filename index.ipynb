{
 "cells": [
  {
   "cell_type": "markdown",
   "metadata": {},
   "source": [
    "# Real-Time Multi-Modal Audio, Video and Physiological Data Collection\n",
    "*by Paul Helstab & Danila Mamontov*\n",
    "\n",
    "This book is a collection...\n",
    "\n",
    "## Structure\n",
    "\n",
    "## Prerequisites & Requirements\n",
    "The project will give a broad overview of the blockchain technology and will highlight certain parts more detailed.\n",
    "\n"
   ]
  }
 ],
 "metadata": {
  "language_info": {
   "name": "python"
  }
 },
 "nbformat": 4,
 "nbformat_minor": 2
}
