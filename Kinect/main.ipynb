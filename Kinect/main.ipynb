{
 "cells": [
  {
   "cell_type": "markdown",
   "metadata": {},
   "source": [
    "### Installation\n",
    "\n",
    "1. Install: Azure Kinect SDK 1.4.1.exe >> https://github.com/microsoft/Azure-Kinect-Sensor-SDK/blob/develop/docs/usage.md\n",
    "2. Install: Azure Kinect Body Tracking SDK 1.0.1 https://www.microsoft.com/en-us/download/details.aspx?id=100942\n",
    "3. Add following to environment variables: \n",
    "* C:\\Program Files\\Azure Kinect SDK v1.4.1\\sdk\\windows-desktop\\amd64\\release\\bin\n",
    "* C:\\Program Files\\Azure Kinect Body Tracking SDK\\sdk\\windows-desktop\\amd64\\release\\bin\n",
    "* C:\\Program Files\\Azure Kinect Body Tracking SDK\\tools\n",
    "\n",
    "\n",
    "<!-- pip install pykinect_azure\n",
    "https://github.com/ibaiGorordo/pyKinectAzure/tree/master/examples -->"
   ]
  },
  {
   "cell_type": "markdown",
   "metadata": {},
   "source": []
  }
 ],
 "metadata": {
  "kernelspec": {
   "display_name": "venv",
   "language": "python",
   "name": "python3"
  },
  "language_info": {
   "codemirror_mode": {
    "name": "ipython",
    "version": 3
   },
   "file_extension": ".py",
   "mimetype": "text/x-python",
   "name": "python",
   "nbconvert_exporter": "python",
   "pygments_lexer": "ipython3",
   "version": "3.9.13"
  }
 },
 "nbformat": 4,
 "nbformat_minor": 2
}
