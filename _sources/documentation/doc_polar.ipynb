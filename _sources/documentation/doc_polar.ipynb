{
 "cells": [
  {
   "cell_type": "markdown",
   "metadata": {
    "slideshow": {
     "slide_type": "slide"
    }
   },
   "source": [
    "# Setup Polar H10"
   ]
  },
  {
   "cell_type": "markdown",
   "metadata": {},
   "source": [
    "## References\n",
    "\n",
    "This application is made possible by the previous work of following projects: \n",
    "\n",
    "* Brammer et al. (@JanCBrammer | [OpenHRV](https://github.com/JanCBrammer/OpenHRV))"
   ]
  },
  {
   "cell_type": "markdown",
   "metadata": {
    "slideshow": {
     "slide_type": "slide"
    }
   },
   "source": [
    "## Requirements\n",
    "\n",
    "### Hardware\n",
    "* Polar H10\n",
    "* Bluetooth 4.0 or later module (e.g. via USB)"
   ]
  },
  {
   "cell_type": "markdown",
   "metadata": {
    "slideshow": {
     "slide_type": "slide"
    }
   },
   "source": [
    "## Installation\n",
    "\n",
    "1. Pair Polar H10 in windows 10/11 bluetooth settings.\n",
    "2. Start the application.\n",
    "\n",
    "<img src=\"../_static/images/polar.png\" width=\"500\" style=\"float: left; margin-right: 10px;\">"
   ]
  },
  {
   "cell_type": "markdown",
   "metadata": {
    "slideshow": {
     "slide_type": "slide"
    }
   },
   "source": [
    "## Usage\n",
    "\n",
    "1. Start the application, after ~2-5 seconds all data become visible after ~2-10 seconds as timeseries plots.\n",
    "2. When all timeseries plots are available the recording can be started by pressing \"#\" or via button."
   ]
  },
  {
   "cell_type": "markdown",
   "metadata": {},
   "source": [
    "## Executable (pyinstaller bundling)\n",
    "\n",
    "To bunde the application to a **portable .exe on windows** with following steps:\n",
    "\n",
    "If not already created/installed:\n",
    "```console\n",
    "python -m venv venv\n",
    "```\n",
    "\n",
    "```console\n",
    ".\\venv\\Scripts\\activate \n",
    "```\n",
    "\n",
    "```console\n",
    "pip install -r requirements.txt\n",
    "```\n",
    "\n",
    "Bundling:\n",
    "```console\n",
    "cd Polar\n",
    "```\n",
    "\n",
    "```console\n",
    "pyinstaller --clean --onefile --add-data \"PolarH10.py;.\" PolarH10app.py\n",
    "```\n",
    "\n",
    "The bundled .exe can be found in the **dist** folder after finish.\n",
    "\n",
    "* **The documentation of the pyinstaller what the arguments are used for can be found here: [Pyinstaller Docs](https://pyinstaller.org/en/stable/usage.html)**"
   ]
  }
 ],
 "metadata": {
  "celltoolbar": "Slideshow",
  "kernelspec": {
   "display_name": "Python 3 (ipykernel)",
   "language": "python",
   "name": "python3"
  },
  "language_info": {
   "codemirror_mode": {
    "name": "ipython",
    "version": 3
   },
   "file_extension": ".py",
   "mimetype": "text/x-python",
   "name": "python",
   "nbconvert_exporter": "python",
   "pygments_lexer": "ipython3",
   "version": "3.11.9"
  }
 },
 "nbformat": 4,
 "nbformat_minor": 2
}
