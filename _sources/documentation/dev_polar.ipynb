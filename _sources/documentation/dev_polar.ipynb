{
 "cells": [
  {
   "cell_type": "markdown",
   "metadata": {
    "slideshow": {
     "slide_type": "slide"
    }
   },
   "source": [
    "# Polar H10"
   ]
  },
  {
   "cell_type": "markdown",
   "metadata": {
    "slideshow": {
     "slide_type": "slide"
    }
   },
   "source": [
    "## Sensors\n",
    "\n",
    "**Polar H10** (Real-time heart rate signals)\n",
    " * Electrocardiography sensor (ECG)\n",
    " * 3-axis accelerometer (XYZ)\n",
    "\n",
    "\n",
    " <img src=\"https://support.empatica.com/hc/article_attachments/360000797783\" width=\"300\"  />\n",
    " \n",
    "*Output:*\n",
    " * Heart rate as bpm\n",
    " * 3-axis acceleration (XYZ): 50Hz, 16bit resolution, Range 8G\n",
    " * Skin temperature: 1Hz, 2Hz, 4Hz options, 32 bit resolution \n",
    " \n",
    "\n",
    "\n",
    "## Output\n",
    "\n",
    "The Polar H10 sensor provides three main types of data, which are saved in separate CSV files:\n",
    "\n",
    "Interbeat Interval (IBI) Data:\n",
    "```\n",
    "File: polar_ibi_data.csv\n",
    "Columns: Timestamp, IBI\n",
    "Timestamp: Unix timestamp in seconds (float)\n",
    "IBI: Interbeat interval in milliseconds (float)\n",
    "Accelerometer Data:\n",
    "```\n",
    "\n",
    "```\n",
    "File: polar_acc_data.csv\n",
    "Columns: Timestamp, X, Y, Z\n",
    "Timestamp: Unix timestamp in seconds (float)\n",
    "X, Y, Z: Acceleration values in G (gravitational force), range ±8G (float)\n",
    "Sampling rate: 200 Hz\n",
    "Electrocardiography (ECG) Data:\n",
    "```\n",
    "\n",
    "```\n",
    "File: polar_ecg_data.csv\n",
    "Columns: Timestamp, ECG\n",
    "Timestamp: Unix timestamp in seconds (float)\n",
    "ECG: ECG value in microvolts (integer)\n",
    "Sampling rate: 130 Hz\n",
    "```\n",
    "\n",
    "\n",
    "Additional details:\n",
    "\n",
    "* The data is collected in real-time and stored in circular buffers before being written to the CSV files.\n",
    "* The timestamp for all data types is synchronized to the system clock (epoch time).\n",
    "* The accelerometer data is converted from raw values to G units (dividing by 100).\n",
    "* The ECG data is provided in its raw format (microvolts).\n",
    "* The IBI data is converted from 1/1024 seconds format to milliseconds."
   ]
  }
 ],
 "metadata": {
  "celltoolbar": "Slideshow",
  "kernelspec": {
   "display_name": "Python 3 (ipykernel)",
   "language": "python",
   "name": "python3"
  },
  "language_info": {
   "codemirror_mode": {
    "name": "ipython",
    "version": 3
   },
   "file_extension": ".py",
   "mimetype": "text/x-python",
   "name": "python",
   "nbconvert_exporter": "python",
   "pygments_lexer": "ipython3",
   "version": "3.11.9"
  }
 },
 "nbformat": 4,
 "nbformat_minor": 2
}
