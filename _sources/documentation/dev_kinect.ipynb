{
 "cells": [
  {
   "cell_type": "markdown",
   "metadata": {
    "slideshow": {
     "slide_type": "slide"
    }
   },
   "source": [
    "# Azure Kinect DK"
   ]
  },
  {
   "cell_type": "markdown",
   "metadata": {
    "slideshow": {
     "slide_type": "slide"
    }
   },
   "source": [
    "**Azure Kinect Developer Kit**\n",
    " * Video signaling\n",
    "     * Depth camera: 1MP Time-of-flight\n",
    "     * RGB camera: 12MP CMOS sensor rolling shutter\n",
    "     * IMU: 3D digital accelerometer and a 3D digital gyroscope\n",
    " * Audio signaling\n",
    "     * Microphone: 7-microphone circular array\n",
    "     \n",
    "\n",
    "*Output:*\n",
    " * Video:\n",
    " * Audio:     "
   ]
  }
 ],
 "metadata": {
  "celltoolbar": "Slideshow",
  "kernelspec": {
   "display_name": "Python 3 (ipykernel)",
   "language": "python",
   "name": "python3"
  },
  "language_info": {
   "codemirror_mode": {
    "name": "ipython",
    "version": 3
   },
   "file_extension": ".py",
   "mimetype": "text/x-python",
   "name": "python",
   "nbconvert_exporter": "python",
   "pygments_lexer": "ipython3",
   "version": "3.11.9"
  }
 },
 "nbformat": 4,
 "nbformat_minor": 2
}
