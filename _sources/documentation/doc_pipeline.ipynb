{
 "cells": [
  {
   "cell_type": "markdown",
   "id": "7134d9df",
   "metadata": {},
   "source": [
    "# Pipeline"
   ]
  },
  {
   "cell_type": "markdown",
   "id": "4b7b3054",
   "metadata": {},
   "source": [
    "## Build Pipeline\n",
    "\n",
    "For building and deploying our applications we set up a GitHub build pipeline (`build.yml`).\n",
    "The pipeline server must be a windows server instance because our applications are mainly distributed on Windows OS.\n",
    "\n",
    "**The build pipeline is only triggered when adding a version tag to the commit (e.g. v1.0.1) according following formatting:**\n",
    "\n",
    "```yml\n",
    "on:\n",
    "  push:\n",
    "    tags:\n",
    "      - 'v*.*.*'\n",
    "```\n"
   ]
  },
  {
   "cell_type": "markdown",
   "id": "5d60cfca",
   "metadata": {},
   "source": [
    "## GitHub Pages Pipeline\n",
    "\n",
    "The GitHub Pages pipeline deploys the documentation of the entire project and its subprojects to a GitHub Pages site as a Jupyter Book. With Jupyter Book, in combination with GitHub's Pages functionality, you can deploy Jupyter Notebooks and Markdown-like pages as an online book/resource. The idea comes from Professor Wu from the University of Tennessee (see [Cookiecutter Jupyter Book](https://github.com/giswqs/cookiecutter-jupyter-book)).\n",
    "\n",
    "\n",
    "The `deploy.yml` file in the repository deploys the project as a GitHub Pages site.\n",
    "The pipeline server runs stabilly via python 3.9 (ubuntu).\n",
    "\n",
    "\n",
    "Building the Jupyter Book locally can be done via the following commands:\n",
    "```console\n",
    "python -m venv venv\n",
    "```\n",
    "\n",
    "```console\n",
    ".\\venv\\Scripts\\activate \n",
    "```\n",
    "\n",
    "```console\n",
    "pip install -r requirements.txt\n",
    "```\n",
    "\n",
    "* Important libs\n",
    "```console\n",
    "pip install -r requirements_jupyterbook.txt\n",
    "```\n",
    "\n",
    "must be run in root path:\n",
    "\n",
    "* Clean existing builds\n",
    "```console\n",
    "jupyter-book clean .\n",
    "```\n",
    "\n",
    "\n",
    "* Build Book (can be accessed via _build/html/index.html) :\n",
    "```console\n",
    "jupyter-book build . \n",
    "```\n"
   ]
  },
  {
   "cell_type": "markdown",
   "id": "6ad7cacf",
   "metadata": {},
   "source": [
    "## Github Pipeline Rates:\n",
    "\n",
    "Because we own a GitHub Pro Education Account, **we have a capacity of 3,000 minutes using GitHub's pipeline servers and a storage capacity of 1GB.**\n",
    "\n",
    "Windows server have a multiplier of 2x which means that 1,500 minutes per month the pipeline server can be running (see [GitHub Billing](https://docs.github.com/en/billing/managing-billing-for-github-actions/about-billing-for-github-actions))\n"
   ]
  }
 ],
 "metadata": {
  "kernelspec": {
   "display_name": "Python 3 (ipykernel)",
   "language": "python",
   "name": "python3"
  },
  "language_info": {
   "codemirror_mode": {
    "name": "ipython",
    "version": 3
   },
   "file_extension": ".py",
   "mimetype": "text/x-python",
   "name": "python",
   "nbconvert_exporter": "python",
   "pygments_lexer": "ipython3",
   "version": "3.11.9"
  }
 },
 "nbformat": 4,
 "nbformat_minor": 5
}
