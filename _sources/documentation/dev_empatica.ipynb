{
 "cells": [
  {
   "cell_type": "markdown",
   "metadata": {
    "slideshow": {
     "slide_type": "slide"
    }
   },
   "source": [
    "# Empatica E4"
   ]
  },
  {
   "cell_type": "markdown",
   "metadata": {
    "slideshow": {
     "slide_type": "slide"
    }
   },
   "source": [
    "**Provided Sensors:**\n",
    "**Empatica E4** (Real-time physiological signals)\n",
    " * Photoplethysmography sensor (PPG)\n",
    " * Electrodermal activity sensor (EDA)\n",
    " * 3-axis accelerometer (XYZ)\n",
    " * Optical thermometer (Infrared)\n",
    "\n",
    "## Application runtime\n",
    "\n",
    "The Empatica E4 streaming server is a Middleware which communicates to any third party software via TCP. The default server adress and port is: **localhost (127.0.0.1) and 28000**.\n",
    "\n",
    "1. **On Start:** application subscribes to all available Empatica E4 data streams (see docs [Empatica protocols](https://developer.empatica.com/windows-streaming-server-commands.html))\n",
    "2. After **~2-10** seconds the **subscribed data streams** can be seen **as the visual timeseries** in the frontend.\n",
    "3. When all data streams are visually represented in the frontend, data can be saved persistently via the **record button**.\n",
    "\n",
    "*Data Outputs:*\n",
    "\n",
    "* acc - 3-axis acceleration \n",
    "* bvp - Blood Volume Pulse \n",
    "* gsr - Galvanic Skin Response \n",
    "* ibi - Interbeat Interval and Heartbeat \n",
    "* tmp - Skin Temperature \n",
    "* bat - Device Battery \n",
    "* tag - Tag taken from the device (by pressing the button)\n",
    "\n",
    "\n",
    "\n",
    "## Important notes\n",
    "\n",
    "The data stream subscriptions have a delay of **700 milliseconds** between each other. When this delay is set lower or, even worse, to zero, some data streams are not subscribed to and are rejected by the device.\n",
    "\n"
   ]
  }
 ],
 "metadata": {
  "celltoolbar": "Slideshow",
  "kernelspec": {
   "display_name": "Python 3 (ipykernel)",
   "language": "python",
   "name": "python3"
  },
  "language_info": {
   "codemirror_mode": {
    "name": "ipython",
    "version": 3
   },
   "file_extension": ".py",
   "mimetype": "text/x-python",
   "name": "python",
   "nbconvert_exporter": "python",
   "pygments_lexer": "ipython3",
   "version": "3.11.9"
  }
 },
 "nbformat": 4,
 "nbformat_minor": 2
}
