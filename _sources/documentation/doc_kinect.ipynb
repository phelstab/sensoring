{
 "cells": [
  {
   "cell_type": "markdown",
   "metadata": {
    "slideshow": {
     "slide_type": "slide"
    }
   },
   "source": [
    "# Setup Azure Kinect DK"
   ]
  },
  {
   "cell_type": "markdown",
   "metadata": {},
   "source": [
    "## References\n",
    "\n",
    "This application is made possible by the previous work of following projects: \n",
    "\n",
    "* Kyung-Su Kang (@unerue | [pykinect-recorder](https://github.com/unerue/pykinect-recorder))\n",
    "* @etiennedub et al. | [pyk4a](https://github.com/etiennedub/pyk4a)\n",
    "* Gutekanst et al. | [Azure-Kinect-Python](https://github.com/hexops-graveyard/Azure-Kinect-Python)\n"
   ]
  },
  {
   "cell_type": "markdown",
   "metadata": {
    "slideshow": {
     "slide_type": "slide"
    }
   },
   "source": [
    "## Requirements\n",
    "\n",
    "### Hardware\n",
    "* Azure Kinect DK\n",
    "* USB to USBC Cable \n",
    "* USB to Barrel connector\n",
    "\n",
    "### Software\n",
    "* Azure Kinect SDK 1.4.1 (see [Kinect SDK](https://github.com/microsoft/Azure-Kinect-Sensor-SDK/blob/develop/docs/usage.md))\n",
    "    * Important: use 1.4.1\n",
    "* Optional for now: Azure Kinect Body Tracking SDK 1.0.1 (see [Kinect Body Tracking SDK](https://www.microsoft.com/en-us/download/details.aspx?id=100942)) "
   ]
  },
  {
   "cell_type": "markdown",
   "metadata": {
    "slideshow": {
     "slide_type": "slide"
    }
   },
   "source": [
    "## Installation\n",
    "\n",
    "1. Install software from chapter requirements (keep path as default).\n",
    "2. Add following paths to Windows Environment Variables\n",
    "3. Win Key + R \n",
    "\n",
    "```console\n",
    "rundll32.exe sysdm.cpl,EditEnvironmentVariables\n",
    "```\n",
    "\n",
    "4. Add to **Path**: <br>\n",
    "```\n",
    "    C:\\Program Files\\Azure Kinect SDK v1.4.1\\sdk\\windows-desktop\\amd64\\release\\bin <br>\n",
    "    C:\\Program Files\\Azure Kinect Body Tracking SDK\\sdk\\windows-desktop\\amd64\\release\\bin<br>\n",
    "    C:\\Program Files\\Azure Kinect Body Tracking SDK\\tools<br>\n",
    "```\n",
    "\n",
    "5. Please check by open the windows **device manager** (kinect shoud should be visible as microphone array and the depth camera + 4K camera as USB serial bus):<br>\n",
    "<img src=\"../_static/images/kinect_driver.png\" width=\"500\" style=\"float: left; margin-right: 10px;\">"
   ]
  },
  {
   "cell_type": "markdown",
   "metadata": {
    "slideshow": {
     "slide_type": "slide"
    }
   },
   "source": [
    "## Usage\n",
    "\n",
    "1. If all steps in the chapter Installation are made the application can be started.\n",
    "2. Toggle the slider on the top right corner to establish a connection to the Azure Kinect DK.\n",
    "3. The triangle starts the \"viewer\" mode without recording.\n",
    "4. By pressing \"#\" or via button (red dot), the recording can be started.\n"
   ]
  },
  {
   "cell_type": "markdown",
   "metadata": {},
   "source": [
    "## Important notes\n",
    "* Data cable must be plugged to USB 3.0 (or newer)\n",
    "* The .mkv video data is a raw video footage which is very data intensive (7GB per Minute by default settings), please only record on a fast and big SSD drive for the best performance and no storage issues. "
   ]
  }
 ],
 "metadata": {
  "celltoolbar": "Slideshow",
  "kernelspec": {
   "display_name": "Python 3 (ipykernel)",
   "language": "python",
   "name": "python3"
  },
  "language_info": {
   "codemirror_mode": {
    "name": "ipython",
    "version": 3
   },
   "file_extension": ".py",
   "mimetype": "text/x-python",
   "name": "python",
   "nbconvert_exporter": "python",
   "pygments_lexer": "ipython3",
   "version": "3.11.9"
  }
 },
 "nbformat": 4,
 "nbformat_minor": 2
}
