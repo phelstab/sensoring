{
 "cells": [
  {
   "cell_type": "markdown",
   "metadata": {
    "slideshow": {
     "slide_type": "slide"
    }
   },
   "source": [
    "# Setup Empatica E4"
   ]
  },
  {
   "cell_type": "markdown",
   "metadata": {
    "slideshow": {
     "slide_type": "slide"
    }
   },
   "source": [
    "## Requirements\n",
    "\n",
    "\n",
    "### Hardware\n",
    "* Physical Empatica E4 Device\n",
    "* Bluegiga Bluetooth Smart Dongle **BLED112**, the Empatica E4 only works on this Hardware (see [BLED112 Specs](https://www.silabs.com/wireless/bluetooth/bluegiga-low-energy-legacy-modules/device.bled112?tab=specs))\n",
    "    * can be bought for cheap on AliExpress (see [BLED112 on AliExpress, NO affiliate link](https://de.aliexpress.com/w/wholesale-BLED112.html?spm=a2g0o.home.search.0))\n",
    "\n",
    "### Accounts\n",
    "* Empatica E4 Account (see [E4 Dashboard Login](https://e4.empatica.com/connect/login.php))\n",
    "\n",
    "### Key\n",
    "* **Purchase Key** of Empatica E4 Device **OR** permitted account via **Shared Device** (see [E4 Developer Dashboard](https://e4.empatica.com/connect/developer.php))\n",
    "\n",
    "### Software\n",
    "* Empatica E4 Streaming Server / Windows only (download here: [E4 Streaming Server](http://get.empatica.com/win/EmpaticaBLEServer.html))\n",
    "* Bluegiga Bluetooth Smart Dongle BLED112 **Driver** (download here: [BLED112 Driver](https://www.silabs.com/documents/login/software/BLED112-Signed-Win-Drv.zip)) \n",
    "* Visual C++ Redistributable Package installed\n"
   ]
  },
  {
   "cell_type": "markdown",
   "metadata": {
    "slideshow": {
     "slide_type": "slide"
    }
   },
   "source": [
    "## Installation\n",
    "\n",
    "1. Register a Developer Account in the Empatica e4 dashboard (see [E4 Dashboard Login](https://e4.empatica.com/connect/login.php))\n",
    "2. The Empatica Devices must be **registered via key** as purchased device or the account must be permitted as a **shared device** (in this dashboard [E4 Developer Dashboard](https://e4.empatica.com/connect/developer.php))\n",
    "3. Follow installation steps here: [E4 Streaming Server Docs](https://developer.empatica.com/windows-streaming-server-usage.html)\n",
    "4. If everything done correct, you can see in the **Empatica E4 Streaming Server**, the **connection established** with a green button.\n",
    "    * If **not allowed** with 0% battery shows up, your account/API key is not registered to the device or there is a bug with the Empatica Device which can only be resolved when Empatica E4 is factory resetted (see here how: [E4 Factory Reset](https://support.empatica.com/hc/en-us/articles/115002451586-E4-Firmware-upgrade-aborted-E4-displays-steady-green-LED#:~:text=Reset%20the%20E4%20wristband%20by,start%20the%20firmware%20upgrade%20process).)\n",
    "        * If still not working try to upgrade software version via the Empatica manager software [Empatica Manager](https://e4.empatica.com/empatica-manager-download)"
   ]
  },
  {
   "cell_type": "markdown",
   "metadata": {
    "slideshow": {
     "slide_type": "slide"
    }
   },
   "source": [
    "## Usage\n",
    "\n",
    "1. After connection established in the **Empatica E4 Streaming Server** the data aquisition software can be started.\n",
    "2. The data streams are subscribed automatically.\n",
    "3. The data becomes visible after ~2-10 seconds as timeseries plots.\n",
    "4. The recording can be started by pressing \"#\" or via button."
   ]
  }
 ],
 "metadata": {
  "celltoolbar": "Slideshow",
  "kernelspec": {
   "display_name": "Python 3 (ipykernel)",
   "language": "python",
   "name": "python3"
  },
  "language_info": {
   "codemirror_mode": {
    "name": "ipython",
    "version": 3
   },
   "file_extension": ".py",
   "mimetype": "text/x-python",
   "name": "python",
   "nbconvert_exporter": "python",
   "pygments_lexer": "ipython3",
   "version": "3.11.9"
  }
 },
 "nbformat": 4,
 "nbformat_minor": 2
}
