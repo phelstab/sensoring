{
 "cells": [
  {
   "cell_type": "markdown",
   "metadata": {
    "slideshow": {
     "slide_type": "slide"
    }
   },
   "source": [
    "# Motivation\n"
   ]
  },
  {
   "cell_type": "markdown",
   "metadata": {
    "slideshow": {
     "slide_type": "slide"
    }
   },
   "source": [
    "<div class=\"alert alert-info\"><b>Initial Goal</b><br />\n",
    "To prepare <b>equipment and sensors</b> for complex data collection (<b>audio, video, physiology, eye and body tracking</b>) during a VR experiment aimed at studying the user’s state while passing a maze under stressful conditions\n",
    "</div>\n",
    "\n",
    "**Our Goal:** \n",
    "* **Real-time** data acquisition and visualization of audio, video and physiological signals"
   ]
  },
  {
   "cell_type": "markdown",
   "metadata": {
    "slideshow": {
     "slide_type": "slide"
    }
   },
   "source": [
    "<div class=\"alert alert-warning\">\n",
    "Parallel processing and recording of different data streams can be a <b>challenge</b>, especially if the sensors react <b>sensitively</b> and the underlying software is not really <b>stable</b>.\n",
    "\n",
    "</div>"
   ]
  },
  {
   "cell_type": "markdown",
   "metadata": {
    "slideshow": {
     "slide_type": "slide"
    }
   },
   "source": [
    "**Initial thoughts:**\n",
    "\n",
    "* Which sensors are we dealing with in the first place?\n",
    "* What sensor data do we get?\n",
    "* Check the SDK's / API's of the sensors\n",
    "* Specific Hardware needed?\n",
    "* Real time data and Recording?\n",
    "    * Visualisation\n",
    "    * Consider delays and losses\n",
    "    * How to record together in parallel via several connectors?\n",
    "* Define architecture\n",
    "* ..."
   ]
  },
  {
   "cell_type": "markdown",
   "metadata": {
    "slideshow": {
     "slide_type": "slide"
    }
   },
   "source": [
    "**Plan (ordered in priority):**\n",
    "* Stable data aquisition without losses\n",
    "* Lightweight software for performance and low complexity \n",
    "* Real time visualisations for supervising data aquisition during experiment\n",
    "* Pipeline for versioning and fast deployments\n",
    "* Clean code architecture for further development\n",
    "\n",
    "\n",
    "One main goal is to be able to use the different sensor software for **experiments of all kinds**, with **little effort** to extend **features** and develop improvements.\n",
    "\n"
   ]
  }
 ],
 "metadata": {
  "celltoolbar": "Slideshow",
  "kernelspec": {
   "display_name": "Python 3 (ipykernel)",
   "language": "python",
   "name": "python3"
  },
  "language_info": {
   "codemirror_mode": {
    "name": "ipython",
    "version": 3
   },
   "file_extension": ".py",
   "mimetype": "text/x-python",
   "name": "python",
   "nbconvert_exporter": "python",
   "pygments_lexer": "ipython3",
   "version": "3.11.9"
  }
 },
 "nbformat": 4,
 "nbformat_minor": 2
}
