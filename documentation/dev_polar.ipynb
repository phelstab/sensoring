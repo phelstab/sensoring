{
 "cells": [
  {
   "cell_type": "markdown",
   "metadata": {
    "slideshow": {
     "slide_type": "slide"
    }
   },
   "source": [
    "# Polar H10"
   ]
  },
  {
   "cell_type": "markdown",
   "metadata": {
    "slideshow": {
     "slide_type": "slide"
    }
   },
   "source": [
    "## Sensors\n",
    "\n",
    "**Polar H10** (Real-time heart rate signals)\n",
    " * Electrocardiography sensor (ECG)\n",
    " * 3-axis accelerometer (XYZ)\n",
    "\n",
    "\n",
    " <img src=\"https://support.empatica.com/hc/article_attachments/360000797783\" width=\"300\"  />\n",
    " \n",
    "*Output:*\n",
    " * Heart rate as bpm\n",
    " * 3-axis acceleration (XYZ): 50Hz, 16bit resolution, Range 8G\n",
    " * Skin temperature: 1Hz, 2Hz, 4Hz options, 32 bit resolution \n",
    " \n",
    "\n",
    "\n",
    "## Codecs"
   ]
  }
 ],
 "metadata": {
  "celltoolbar": "Slideshow",
  "kernelspec": {
   "display_name": "Python 3 (ipykernel)",
   "language": "python",
   "name": "python3"
  },
  "language_info": {
   "codemirror_mode": {
    "name": "ipython",
    "version": 3
   },
   "file_extension": ".py",
   "mimetype": "text/x-python",
   "name": "python",
   "nbconvert_exporter": "python",
   "pygments_lexer": "ipython3",
   "version": "3.11.9"
  }
 },
 "nbformat": 4,
 "nbformat_minor": 2
}
