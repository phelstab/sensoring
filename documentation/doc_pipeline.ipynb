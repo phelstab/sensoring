{
 "cells": [
  {
   "cell_type": "markdown",
   "id": "7134d9df",
   "metadata": {},
   "source": [
    "# Pipeline"
   ]
  },
  {
   "cell_type": "markdown",
   "id": "6ad7cacf",
   "metadata": {},
   "source": [
    "python version: 3.11\n",
    "\n",
    "\n",
    "\n",
    "Github Pipeline Rates:\n",
    "https://docs.github.com/en/billing/managing-billing-for-github-actions/about-billing-for-github-actions\n",
    "\n",
    "Windows server rate is 1500 minutes"
   ]
  }
 ],
 "metadata": {
  "kernelspec": {
   "display_name": "Python 3 (ipykernel)",
   "language": "python",
   "name": "python3"
  },
  "language_info": {
   "codemirror_mode": {
    "name": "ipython",
    "version": 3
   },
   "file_extension": ".py",
   "mimetype": "text/x-python",
   "name": "python",
   "nbconvert_exporter": "python",
   "pygments_lexer": "ipython3",
   "version": "3.11.9"
  }
 },
 "nbformat": 4,
 "nbformat_minor": 5
}
