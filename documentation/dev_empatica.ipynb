{
 "cells": [
  {
   "cell_type": "markdown",
   "metadata": {
    "slideshow": {
     "slide_type": "slide"
    }
   },
   "source": [
    "# Empatica E4"
   ]
  },
  {
   "cell_type": "markdown",
   "metadata": {
    "slideshow": {
     "slide_type": "slide"
    }
   },
   "source": [
    "## Sensors\n",
    "\n",
    " * Photoplethysmography sensor (PPG)\n",
    " * Electrodermal activity sensor (EDA)\n",
    " * 3-axis accelerometer (XYZ)\n",
    " * Optical thermometer (Infrared)\n",
    " \n",
    "*Output:*\n",
    "\n",
    "* acc - 3-axis acceleration \n",
    "* bvp - Blood Volume Pulse \n",
    "* gsr - Galvanic Skin Response \n",
    "* ibi - Interbeat Interval and Heartbeat \n",
    "* tmp - Skin Temperature \n",
    "* bat - Device Battery \n",
    "* tag - Tag taken from the device (by pressing the button)\n",
    " \n",
    "## Output\n",
    "\n",
    "The Empatica E4 sensor provides several types of data, which are streamed in real-time:\n",
    "\n",
    "Accelerometer Data (acc):\n",
    "```\n",
    "Format: E4_Acc\n",
    "Timestamp: Unix timestamp in seconds with millisecond precision\n",
    "X, Y, Z: Acceleration values in 1/64g units (integer)\n",
    "Sampling rate: 32 Hz\n",
    "```\n",
    "\n",
    "Blood Volume Pulse Data (bvp):\n",
    "```\n",
    "Format: E4_Bvp\n",
    "Timestamp: Unix timestamp in seconds with millisecond precision\n",
    "BVP: Blood volume pulse value (float)\n",
    "Sampling rate: 64 Hz\n",
    "```\n",
    "\n",
    "Galvanic Skin Response Data (gsr):\n",
    "```\n",
    "Format: E4_Gsr\n",
    "Timestamp: Unix timestamp in seconds with millisecond precision\n",
    "GSR: Electrodermal activity in microsiemens (float)\n",
    "Sampling rate: 4 Hz\n",
    "```\n",
    "\n",
    "Interbeat Interval and Heartbeat Data (ibi):\n",
    "```\n",
    "Format: E4_Ibi\n",
    "Timestamp: Unix timestamp in seconds with millisecond precision\n",
    "IBI: Interbeat interval in seconds (float)\n",
    "Sampling rate: Variable, depends on heartbeat detection\n",
    "```\n",
    "\n",
    "Skin Temperature Data (tmp):\n",
    "```\n",
    "Format: E4_Temperature\n",
    "Timestamp: Unix timestamp in seconds with millisecond precision\n",
    "Temperature: Skin temperature in degrees Celsius (float)\n",
    "Sampling rate: 4 Hz\n",
    "```\n",
    "\n",
    "Battery Level Data (bat):\n",
    "```\n",
    "Format: E4_Batt\n",
    "Timestamp: Unix timestamp in seconds with millisecond precision\n",
    "Battery: Battery level percentage (integer)\n",
    "Sampling rate: 0.1 Hz\n",
    "```\n",
    "\n",
    "Tag Data (tag):\n",
    "```\n",
    "Format: E4_Tag\n",
    "Timestamp: Unix timestamp in seconds with millisecond precision\n",
    "Tag: Always 1, indicates a button press event\n",
    "Sampling rate: On-demand, when the button is pressed\n",
    "```\n",
    "\n",
    "**Additional details:**\n",
    "\n",
    "* Data is streamed in real-time over a TCP connection.\n",
    "* Clients need to subscribe to specific data streams to receive the data.\n",
    "* The timestamp for all data types is synchronized to the E4 streaming server's clock.\n",
    "* Data can be paused and resumed without disconnecting from the device.\n",
    "\n",
    "\n",
    "\n",
    "## Application runtime\n",
    "\n",
    "The Empatica E4 streaming server is a Middleware which communicates to any third party software via TCP. The default server adress and port is: **localhost (127.0.0.1) and 28000**.\n",
    "\n",
    "1. **On Start:** application subscribes to all available Empatica E4 data streams (see docs [Empatica protocols](https://developer.empatica.com/windows-streaming-server-commands.html))\n",
    "2. After **~2-10** seconds the **subscribed data streams** can be seen **as the visual timeseries** in the frontend.\n",
    "3. When all data streams are visually represented in the frontend, data can be saved persistently via the **record button**.\n",
    "\n",
    "\n",
    "\n",
    "\n",
    "\n",
    "## Important notes\n",
    "\n",
    "The data stream subscriptions have a delay of **700 milliseconds** between each other. When this delay is set lower or, even worse, to zero, some data streams are not subscribed to and are rejected by the device.\n",
    "\n"
   ]
  }
 ],
 "metadata": {
  "celltoolbar": "Slideshow",
  "kernelspec": {
   "display_name": "Python 3 (ipykernel)",
   "language": "python",
   "name": "python3"
  },
  "language_info": {
   "codemirror_mode": {
    "name": "ipython",
    "version": 3
   },
   "file_extension": ".py",
   "mimetype": "text/x-python",
   "name": "python",
   "nbconvert_exporter": "python",
   "pygments_lexer": "ipython3",
   "version": "3.11.9"
  }
 },
 "nbformat": 4,
 "nbformat_minor": 2
}
